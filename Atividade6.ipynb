{
  "nbformat": 4,
  "nbformat_minor": 0,
  "metadata": {
    "colab": {
      "provenance": [],
      "authorship_tag": "ABX9TyPihE2q0RX0i2umwtdHqd0b",
      "include_colab_link": true
    },
    "kernelspec": {
      "name": "python3",
      "display_name": "Python 3"
    },
    "language_info": {
      "name": "python"
    }
  },
  "cells": [
    {
      "cell_type": "markdown",
      "metadata": {
        "id": "view-in-github",
        "colab_type": "text"
      },
      "source": [
        "<a href=\"https://colab.research.google.com/github/Isa-Leal/atividade-programacao2/blob/main/Atividade6.ipynb\" target=\"_parent\"><img src=\"https://colab.research.google.com/assets/colab-badge.svg\" alt=\"Open In Colab\"/></a>"
      ]
    },
    {
      "cell_type": "code",
      "execution_count": 1,
      "metadata": {
        "colab": {
          "base_uri": "https://localhost:8080/"
        },
        "id": "H2SyLeVvSB6M",
        "outputId": "2b3bd779-0f31-405e-8ac1-6b60e3218833"
      },
      "outputs": [
        {
          "output_type": "stream",
          "name": "stdout",
          "text": [
            "Qual é a sua idade? 35\n",
            "Você é maior de idade.\n"
          ]
        }
      ],
      "source": [
        "# Pergunta a idade do usuário\n",
        "idade = int(input(\"Qual é a sua idade? \"))\n",
        "\n",
        "# Verifica se a idade é maior ou igual a 18\n",
        "if idade >= 18:\n",
        "    print(\"Você é maior de idade.\")  # Se a idade for maior ou igual a 18\n",
        "else:\n",
        "    print(\"Você é menor de idade.\")  # Caso contrário, é menor de idade\n"
      ]
    }
  ]
}