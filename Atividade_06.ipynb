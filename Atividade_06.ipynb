{
  "nbformat": 4,
  "nbformat_minor": 0,
  "metadata": {
    "colab": {
      "provenance": [],
      "authorship_tag": "ABX9TyOjWDGV0fUAzDj6lDVTl8BI",
      "include_colab_link": true
    },
    "kernelspec": {
      "name": "python3",
      "display_name": "Python 3"
    },
    "language_info": {
      "name": "python"
    }
  },
  "cells": [
    {
      "cell_type": "markdown",
      "metadata": {
        "id": "view-in-github",
        "colab_type": "text"
      },
      "source": [
        "<a href=\"https://colab.research.google.com/github/Isa-Leal/atividade-programacao2/blob/main/Atividade6.ipynb\" target=\"_parent\"><img src=\"https://colab.research.google.com/assets/colab-badge.svg\" alt=\"Open In Colab\"/></a>"
      ]
    },
    {
      "cell_type": "code",
      "execution_count": 1,
      "metadata": {
        "colab": {
          "base_uri": "https://localhost:8080/"
        },
        "id": "Gc6fYLWH0uyF",
        "outputId": "669d9401-6211-4bd2-8613-bcdc2eb4e9af"
      },
      "outputs": [
        {
          "output_type": "stream",
          "name": "stdout",
          "text": [
            "Digite um número: 3\n",
            "Digite outro número: 2\n",
            "Digite outro número: 1\n",
            "Digite outro número: 0\n",
            "A soma dos números digitados é: 6\n"
          ]
        }
      ],
      "source": [
        "def main():\n",
        "  # Programa solicite ao usuário números e imprima a soma deles\n",
        "  # O programa deve parar de solicitar números quando o usuário digitar 0\n",
        "  soma = 0\n",
        "  numero = int(input(\"Digite um número: \"))\n",
        "  while numero != 0:\n",
        "    soma += numero\n",
        "    numero = int(input(\"Digite outro número: \"))\n",
        "\n",
        "  print(f\"A soma dos números digitados é: {soma}\")\n",
        "\n",
        "\n",
        "if __name__ == \"__main__\":\n",
        "  main()"
      ]
    }
  ]
}
