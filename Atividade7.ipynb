{
  "nbformat": 4,
  "nbformat_minor": 0,
  "metadata": {
    "colab": {
      "provenance": [],
      "authorship_tag": "ABX9TyOkA8Il5ZqTjx+okjn9Z/y3",
      "include_colab_link": true
    },
    "kernelspec": {
      "name": "python3",
      "display_name": "Python 3"
    },
    "language_info": {
      "name": "python"
    }
  },
  "cells": [
    {
      "cell_type": "markdown",
      "metadata": {
        "id": "view-in-github",
        "colab_type": "text"
      },
      "source": [
        "<a href=\"https://colab.research.google.com/github/Isa-Leal/atividade-programacao2/blob/main/Atividade7.ipynb\" target=\"_parent\"><img src=\"https://colab.research.google.com/assets/colab-badge.svg\" alt=\"Open In Colab\"/></a>"
      ]
    },
    {
      "cell_type": "code",
      "execution_count": 2,
      "metadata": {
        "colab": {
          "base_uri": "https://localhost:8080/"
        },
        "id": "wXUe7n7fAnQH",
        "outputId": "a42a9a02-6ba5-4769-bde4-7153932ac3fd"
      },
      "outputs": [
        {
          "output_type": "stream",
          "name": "stdout",
          "text": [
            "Digite os itens para sua lista de compras. Digite 'sair' para finalizar.\n",
            "Adicione um item: Leite\n",
            "Adicione um item: Farinha de trigo\n",
            "Adicione um item: Fermento em pó\n",
            "Adicione um item: Manteiga\n",
            "Adicione um item: Ovos\n",
            "Adicione um item: sair\n",
            "\n",
            "Sua lista de compras:\n",
            "1. Leite\n",
            "2. Farinha de trigo\n",
            "3. Fermento em pó\n",
            "4. Manteiga\n",
            "5. Ovos\n"
          ]
        }
      ],
      "source": [
        "def lista_de_compras():\n",
        "    # Inicializa uma lista vazia\n",
        "    lista_compras = []\n",
        "\n",
        "    print(\"Digite os itens para sua lista de compras. Digite 'sair' para finalizar.\")\n",
        "\n",
        "    # Laço para adicionar itens à lista\n",
        "    while True:\n",
        "        item = input(\"Adicione um item: \")\n",
        "        if item.lower() == \"sair\":\n",
        "            break\n",
        "        lista_compras.append(item)\n",
        "\n",
        "    # Exibe a lista completa\n",
        "    print(\"\\nSua lista de compras:\")\n",
        "    for i, item in enumerate(lista_compras, start=1):\n",
        "        print(f\"{i}. {item}\")\n",
        "\n",
        "# Chamada da função\n",
        "lista_de_compras()\n"
      ]
    }
  ]
}