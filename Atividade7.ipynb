{
  "nbformat": 4,
  "nbformat_minor": 0,
  "metadata": {
    "colab": {
      "provenance": [],
      "authorship_tag": "ABX9TyMblBFjeK/Ur02Osqzw4/kk",
      "include_colab_link": true
    },
    "kernelspec": {
      "name": "python3",
      "display_name": "Python 3"
    },
    "language_info": {
      "name": "python"
    }
  },
  "cells": [
    {
      "cell_type": "markdown",
      "metadata": {
        "id": "view-in-github",
        "colab_type": "text"
      },
      "source": [
        "<a href=\"https://colab.research.google.com/github/Isa-Leal/atividade-programacao2/blob/main/Atividade7.ipynb\" target=\"_parent\"><img src=\"https://colab.research.google.com/assets/colab-badge.svg\" alt=\"Open In Colab\"/></a>"
      ]
    },
    {
      "cell_type": "code",
      "execution_count": 1,
      "metadata": {
        "colab": {
          "base_uri": "https://localhost:8080/"
        },
        "id": "DGWmmj7OSgtn",
        "outputId": "a6304714-dfe7-4ba4-eb3c-f115aa1fdc08"
      },
      "outputs": [
        {
          "output_type": "stream",
          "name": "stdout",
          "text": [
            "Qual é a temperatura atual em °C? 27\n",
            "Está agradável!\n"
          ]
        }
      ],
      "source": [
        "# Pergunta a temperatura atual\n",
        "temperatura = float(input(\"Qual é a temperatura atual em °C? \"))\n",
        "\n",
        "# Verifica a condição da temperatura\n",
        "if temperatura > 30:\n",
        "    print(\"Está quente!\")\n",
        "elif temperatura < 15:\n",
        "    print(\"Está frio!\")\n",
        "else:\n",
        "    print(\"Está agradável!\")\n"
      ]
    }
  ]
}