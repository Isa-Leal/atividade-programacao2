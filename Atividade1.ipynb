{
  "cell_type": "code",
  "execution_count": null,
  "metadata": {
    "colab": { "background_save": true },
    "id": "algumID"
  },
  "outputs": [
    {
      "name": "stdout",
      "output_type": "stream",
      "text": [
        "Olá, mundo!\n"
      ]
    }
  ],
  "source": [
    "print('Olá, mundo!')"
  ]
}

