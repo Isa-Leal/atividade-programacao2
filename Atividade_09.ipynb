{
  "nbformat": 4,
  "nbformat_minor": 0,
  "metadata": {
    "colab": {
      "provenance": [],
      "authorship_tag": "ABX9TyNgtDK/9YsRONtTj2JZiwTG",
      "include_colab_link": true
    },
    "kernelspec": {
      "name": "python3",
      "display_name": "Python 3"
    },
    "language_info": {
      "name": "python"
    }
  },
  "cells": [
    {
      "cell_type": "markdown",
      "metadata": {
        "id": "view-in-github",
        "colab_type": "text"
      },
      "source": [
        "<a href=\"https://colab.research.google.com/github/Isa-Leal/atividade-programacao2/blob/main/Atividade9.ipynb\" target=\"_parent\"><img src=\"https://colab.research.google.com/assets/colab-badge.svg\" alt=\"Open In Colab\"/></a>"
      ]
    },
    {
      "cell_type": "code",
      "execution_count": 8,
      "metadata": {
        "colab": {
          "base_uri": "https://localhost:8080/"
        },
        "id": "xNpM29JRFELz",
        "outputId": "2f3c916b-b789-4289-c8ec-22010689125e"
      },
      "outputs": [
        {
          "output_type": "stream",
          "name": "stdout",
          "text": [
            "Digite uma frase: Feliz ano novo, família!\n",
            "Digite a letra que você quer contar: a\n",
            "A letra 'a' aparece 3 vez(es) na frase.\n"
          ]
        }
      ],
      "source": [
        "def contar_letra(frase, letra):\n",
        "    # Conta quantas vezes a letra aparece na frase\n",
        "    return frase.count(letra)\n",
        "\n",
        "# Solicita uma frase ao usuário\n",
        "frase = input(\"Digite uma frase: \")\n",
        "\n",
        "# Solicita a letra a ser contada\n",
        "letra = input(\"Digite a letra que você quer contar: \")\n",
        "\n",
        "# Chama a função e exibe o resultado\n",
        "quantidade = contar_letra(frase, letra)\n",
        "print(f\"A letra '{letra}' aparece {quantidade} vez(es) na frase.\")\n"
      ]
    }
  ]
}
