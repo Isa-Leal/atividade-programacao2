{
  "nbformat": 4,
  "nbformat_minor": 0,
  "metadata": {
    "colab": {
      "provenance": [],
      "authorship_tag": "ABX9TyNT0lbo3F68UwsdXSBiB6DI",
      "include_colab_link": true
    },
    "kernelspec": {
      "name": "python3",
      "display_name": "Python 3"
    },
    "language_info": {
      "name": "python"
    }
  },
  "cells": [
    {
      "cell_type": "markdown",
      "metadata": {
        "id": "view-in-github",
        "colab_type": "text"
      },
      "source": [
        "<a href=\"https://colab.research.google.com/github/Isa-Leal/atividade-programacao2/blob/main/Untitled8.ipynb\" target=\"_parent\"><img src=\"https://colab.research.google.com/assets/colab-badge.svg\" alt=\"Open In Colab\"/></a>"
      ]
    },
    {
      "cell_type": "code",
      "execution_count": 1,
      "metadata": {
        "colab": {
          "base_uri": "https://localhost:8080/"
        },
        "id": "b2xzzzgG_-XF",
        "outputId": "2467d999-0f89-40fd-d813-b4753dbf5d61"
      },
      "outputs": [
        {
          "output_type": "stream",
          "name": "stdout",
          "text": [
            "Digite um número: 1\n",
            "O número 1 é ímpar.\n"
          ]
        }
      ],
      "source": [
        "# Define a função para verificar se um número é par ou ímpar\n",
        "def verificar_par_ou_impar(numero):\n",
        "    if numero % 2 == 0:\n",
        "        return \"par\"\n",
        "    else:\n",
        "        return \"ímpar\"\n",
        "\n",
        "# Testa a função com um número\n",
        "numero = int(input(\"Digite um número: \"))\n",
        "resultado = verificar_par_ou_impar(numero)\n",
        "print(f\"O número {numero} é {resultado}.\")\n"
      ]
    }
  ]
}