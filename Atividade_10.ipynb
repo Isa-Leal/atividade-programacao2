{
  "nbformat": 4,
  "nbformat_minor": 0,
  "metadata": {
    "colab": {
      "provenance": [],
      "authorship_tag": "ABX9TyOB6kGRriR5OUxVdo20fru2",
      "include_colab_link": true
    },
    "kernelspec": {
      "name": "python3",
      "display_name": "Python 3"
    },
    "language_info": {
      "name": "python"
    }
  },
  "cells": [
    {
      "cell_type": "markdown",
      "metadata": {
        "id": "view-in-github",
        "colab_type": "text"
      },
      "source": [
        "<a href=\"https://colab.research.google.com/github/Isa-Leal/atividade-programacao2/blob/main/Atividade10.ipynb\" target=\"_parent\"><img src=\"https://colab.research.google.com/assets/colab-badge.svg\" alt=\"Open In Colab\"/></a>"
      ]
    },
    {
      "cell_type": "code",
      "execution_count": 1,
      "metadata": {
        "colab": {
          "base_uri": "https://localhost:8080/"
        },
        "id": "kFGeFx8eHF9R",
        "outputId": "47c136da-e691-4e03-e82c-cbe60e423cc2"
      },
      "outputs": [
        {
          "output_type": "stream",
          "name": "stdout",
          "text": [
            "Digite o início do intervalo: 0\n",
            "Digite o fim do intervalo: 10\n",
            "Números primos no intervalo de 0 a 10: [2, 3, 5, 7]\n"
          ]
        }
      ],
      "source": [
        "def eh_primo(numero):\n",
        "    \"\"\"Verifica se um número é primo.\"\"\"\n",
        "    if numero <= 1:\n",
        "        return False\n",
        "    for i in range(2, int(numero ** 0.5) + 1):\n",
        "        if numero % i == 0:\n",
        "            return False\n",
        "    return True\n",
        "\n",
        "def encontrar_primos(inicio, fim):\n",
        "    \"\"\"Encontra e retorna os números primos dentro de um intervalo.\"\"\"\n",
        "    primos = []\n",
        "    for numero in range(inicio, fim + 1):\n",
        "        if eh_primo(numero):\n",
        "            primos.append(numero)\n",
        "    return primos\n",
        "\n",
        "# Solicita ao usuário o intervalo\n",
        "inicio = int(input(\"Digite o início do intervalo: \"))\n",
        "fim = int(input(\"Digite o fim do intervalo: \"))\n",
        "\n",
        "# Encontra os números primos e exibe o resultado\n",
        "primos = encontrar_primos(inicio, fim)\n",
        "print(f\"Números primos no intervalo de {inicio} a {fim}: {primos}\")\n"
      ]
    }
  ]
}
