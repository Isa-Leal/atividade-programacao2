{
  "nbformat": 4,
  "nbformat_minor": 0,
  "metadata": {
    "colab": {
      "provenance": [],
      "authorship_tag": "ABX9TyP/ZDg7qnliB9Exs0q8EVeB",
      "include_colab_link": true
    },
    "kernelspec": {
      "name": "python3",
      "display_name": "Python 3"
    },
    "language_info": {
      "name": "python"
    }
  },
  "cells": [
    {
      "cell_type": "markdown",
      "metadata": {
        "id": "view-in-github",
        "colab_type": "text"
      },
      "source": [
        "<a href=\"https://colab.research.google.com/github/Isa-Leal/atividade-programacao2/blob/main/Atividade4.ipynb\" target=\"_parent\"><img src=\"https://colab.research.google.com/assets/colab-badge.svg\" alt=\"Open In Colab\"/></a>"
      ]
    },
    {
      "cell_type": "code",
      "source": [
        "# Operações Matemáticas Simples\n",
        "a = 5\n",
        "b = 3\n",
        "\n",
        "# Soma\n",
        "soma = a + b\n",
        "# Multiplicação\n",
        "produto = a * b\n",
        "\n",
        "# Imprimir resultados\n",
        "print(\"Soma:\", soma)\n",
        "print(\"Produto:\", produto)\n",
        "\n"
      ],
      "metadata": {
        "colab": {
          "base_uri": "https://localhost:8080/"
        },
        "id": "VUIwSL5sO3YM",
        "outputId": "50562904-7644-4c0c-ce15-11b71ee223a3"
      },
      "execution_count": 5,
      "outputs": [
        {
          "output_type": "stream",
          "name": "stdout",
          "text": [
            "Soma: 8\n",
            "Produto: 15\n"
          ]
        }
      ]
    }
  ]
}