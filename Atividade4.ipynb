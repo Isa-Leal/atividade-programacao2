{
  "nbformat": 4,
  "nbformat_minor": 0,
  "metadata": {
    "colab": {
      "provenance": [],
      "authorship_tag": "ABX9TyMblBFjeK/Ur02Osqzw4/kk",
      "include_colab_link": true
    },
    "kernelspec": {
      "name": "python3",
      "display_name": "Python 3"
    },
    "language_info": {
      "name": "python"
    }
  },
  "cells": [
    {
      "cell_type": "markdown",
      "metadata": {
        "id": "view-in-github",
        "colab_type": "text"
      },
      "source": [
        "<a href=\"https://colab.research.google.com/github/Isa-Leal/atividade-programacao2/blob/main/Atividade4.ipynb\" target=\"_parent\"><img src=\"https://colab.research.google.com/assets/colab-badge.svg\" alt=\"Open In Colab\"/></a>"
      ]
    },
    {
      "cell_type": "code",
      "execution_count": 1,
      "metadata": {
        "colab": {
          "base_uri": "https://localhost:8080/"
        },
        "id": "WNwu9AtLx3H_",
        "outputId": "2eb3a11c-790b-4635-f80d-872ca39d1a31"
      },
      "outputs": [
        {
          "output_type": "stream",
          "name": "stdout",
          "text": [
            "Qual é a temperatura atual em °C? 27\n",
            "Está agradável!\n"
          ]
        }
      ],
      "source": [
        "# Pergunta a temperatura atual\n",
        "temperatura = float(input(\"Qual é a temperatura atual em °C? \"))\n",
        "\n",
        "# Verifica a condição da temperatura\n",
        "if temperatura > 30:\n",
        "    print(\"Está quente!\")\n",
        "elif temperatura < 15:\n",
        "    print(\"Está frio!\")\n",
        "else:\n",
        "    print(\"Está agradável!\")\n"
      ]
    }
  ]
}