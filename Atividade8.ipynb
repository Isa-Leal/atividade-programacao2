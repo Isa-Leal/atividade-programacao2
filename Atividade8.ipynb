{
  "nbformat": 4,
  "nbformat_minor": 0,
  "metadata": {
    "colab": {
      "provenance": [],
      "authorship_tag": "ABX9TyMBxZo/RXE60A/vv9cq6pdL",
      "include_colab_link": true
    },
    "kernelspec": {
      "name": "python3",
      "display_name": "Python 3"
    },
    "language_info": {
      "name": "python"
    }
  },
  "cells": [
    {
      "cell_type": "markdown",
      "metadata": {
        "id": "view-in-github",
        "colab_type": "text"
      },
      "source": [
        "<a href=\"https://colab.research.google.com/github/Isa-Leal/atividade-programacao2/blob/main/Atividade8.ipynb\" target=\"_parent\"><img src=\"https://colab.research.google.com/assets/colab-badge.svg\" alt=\"Open In Colab\"/></a>"
      ]
    },
    {
      "cell_type": "code",
      "execution_count": 1,
      "metadata": {
        "colab": {
          "base_uri": "https://localhost:8080/"
        },
        "id": "7Ejz1KqoTlpZ",
        "outputId": "b4da7046-92f4-4997-962c-d342241c4523"
      },
      "outputs": [
        {
          "output_type": "stream",
          "name": "stdout",
          "text": [
            "Esta é a repetição número 1\n",
            "Esta é a repetição número 2\n",
            "Esta é a repetição número 3\n",
            "Esta é a repetição número 4\n",
            "Esta é a repetição número 5\n"
          ]
        }
      ],
      "source": [
        "# Usando um laço for para repetir ações\n",
        "for i in range(5):\n",
        "    print(\"Esta é a repetição número\", i + 1)\n"
      ]
    }
  ]
}