{
  "nbformat": 4,
  "nbformat_minor": 0,
  "metadata": {
    "colab": {
      "provenance": [],
      "authorship_tag": "ABX9TyOP599QkFFfUPrzm9BhXg1d",
      "include_colab_link": true
    },
    "kernelspec": {
      "name": "python3",
      "display_name": "Python 3"
    },
    "language_info": {
      "name": "python"
    }
  },
  "cells": [
    {
      "cell_type": "markdown",
      "metadata": {
        "id": "view-in-github",
        "colab_type": "text"
      },
      "source": [
        "<a href=\"https://colab.research.google.com/github/Isa-Leal/atividade-programacao2/blob/main/Atividade2.ipynb\" target=\"_parent\"><img src=\"https://colab.research.google.com/assets/colab-badge.svg\" alt=\"Open In Colab\"/></a>"
      ]
    },
    {
      "cell_type": "code",
      "execution_count": null,
      "metadata": {
        "id": "LH_xrM3-wfU3"
      },
      "outputs": [],
      "source": [
        "def main():\n",
        "    # Programa que pergunta o nome do filme favorito e o ano de lançamento\n",
        "    filme = input(\"Qual é o seu filme favorito? \")\n",
        "    ano = input(\"Em que ano ele foi lançado? \")\n",
        "\n",
        "    # Exibindo a mensagem com as informações fornecidas\n",
        "    print(\"Seu filme favorito é\", filme, \"e ele foi lançado em\", ano)\n",
        "\n",
        "# Chama a função principal\n",
        "if __name__ == \"__main__\":\n",
        "    main()\n"
      ]
    }
  ]
}