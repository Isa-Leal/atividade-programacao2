{
  "nbformat": 4,
  "nbformat_minor": 0,
  "metadata": {
    "colab": {
      "provenance": [],
      "authorship_tag": "ABX9TyMSinjodtP9Oj2ak5HxK9s+",
      "include_colab_link": true
    },
    "kernelspec": {
      "name": "python3",
      "display_name": "Python 3"
    },
    "language_info": {
      "name": "python"
    }
  },
  "cells": [
    {
      "cell_type": "markdown",
      "metadata": {
        "id": "view-in-github",
        "colab_type": "text"
      },
      "source": [
        "<a href=\"https://colab.research.google.com/github/Isa-Leal/atividade-programacao2/blob/main/Atividade10.ipynb\" target=\"_parent\"><img src=\"https://colab.research.google.com/assets/colab-badge.svg\" alt=\"Open In Colab\"/></a>"
      ]
    },
    {
      "cell_type": "code",
      "execution_count": 1,
      "metadata": {
        "colab": {
          "base_uri": "https://localhost:8080/"
        },
        "id": "_ulfODtGWw8N",
        "outputId": "0b44280d-dac1-4677-e8ef-46915eeacd3d"
      },
      "outputs": [
        {
          "output_type": "stream",
          "name": "stdout",
          "text": [
            "A soma dos números de 1 a 5 é: 15\n"
          ]
        }
      ],
      "source": [
        "# Usando um laço while para somar números\n",
        "soma = 0\n",
        "contador = 1\n",
        "while contador <= 5:\n",
        "    soma += contador  # Soma o valor de contador à variável soma\n",
        "    contador += 1  # Aumenta o contador em 1\n",
        "print(\"A soma dos números de 1 a 5 é:\", soma)\n"
      ]
    }
  ]
}
